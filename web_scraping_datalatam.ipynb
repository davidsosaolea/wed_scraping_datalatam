{
 "cells": [
  {
   "cell_type": "code",
   "execution_count": 1,
   "metadata": {},
   "outputs": [],
   "source": [
    "import csv\n",
    "import requests\n",
    "from bs4 import BeautifulSoup"
   ]
  },
  {
   "cell_type": "code",
   "execution_count": 2,
   "metadata": {},
   "outputs": [],
   "source": [
    "url_base = 'https://www.datalatam.com'\n",
    "response = requests.get(url_base)\n",
    "soup = BeautifulSoup(response.text, 'html.parser')\n",
    "\n",
    "with open('podcasts.csv', 'w', newline='') as csvfile:\n",
    "    writer = csv.writer(csvfile, delimiter=',')\n",
    "    writer.writerow(['Podcast', 'Enlace'])\n",
    "\n",
    "    for a in soup.select('div.col-md-6 p strong a'):\n",
    "        podcast = a.text.strip()\n",
    "        enlace = url_base + '/' + a['href']\n",
    "\n",
    "        response2 = requests.get(enlace)\n",
    "        soup2 = BeautifulSoup(response2.content, 'html.parser')\n",
    "        episodios = []\n",
    "        for a2 in soup2.select('div ul li a'):\n",
    "            enlace2 = a2['href']\n",
    "            episodios.append(enlace2)\n",
    "        \n",
    "        writer.writerow([podcast, ', '.join(episodios)])"
   ]
  }
 ],
 "metadata": {
  "kernelspec": {
   "display_name": "py35",
   "language": "python",
   "name": "python3"
  },
  "language_info": {
   "codemirror_mode": {
    "name": "ipython",
    "version": 3
   },
   "file_extension": ".py",
   "mimetype": "text/x-python",
   "name": "python",
   "nbconvert_exporter": "python",
   "pygments_lexer": "ipython3",
   "version": "3.11.3"
  },
  "orig_nbformat": 4
 },
 "nbformat": 4,
 "nbformat_minor": 2
}
